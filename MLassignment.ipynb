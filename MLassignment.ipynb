{
  "nbformat": 4,
  "nbformat_minor": 0,
  "metadata": {
    "colab": {
      "provenance": []
    },
    "kernelspec": {
      "name": "python3",
      "display_name": "Python 3"
    },
    "language_info": {
      "name": "python"
    }
  },
  "cells": [
    {
      "cell_type": "code",
      "source": [
        "# Import necessary libraries\n",
        "import pandas as pd\n",
        "from google.colab import files\n",
        "from sklearn.preprocessing import StandardScaler\n",
        "from sklearn.model_selection import train_test_split\n"
      ],
      "metadata": {
        "id": "tBXM5ENdwo1H"
      },
      "execution_count": 1,
      "outputs": []
    },
    {
      "cell_type": "code",
      "source": [
        "df = pd.read_csv('/content/bank.csv', delimiter=';')\n",
        "print(df.head())"
      ],
      "metadata": {
        "colab": {
          "base_uri": "https://localhost:8080/"
        },
        "id": "XhQG7R1dyRIq",
        "outputId": "e3824ba3-a6a5-4c5b-8a9b-7d3e03c96df1"
      },
      "execution_count": 4,
      "outputs": [
        {
          "output_type": "stream",
          "name": "stdout",
          "text": [
            "   age          job  marital  education default  balance housing loan  \\\n",
            "0   30   unemployed  married    primary      no     1787      no   no   \n",
            "1   33     services  married  secondary      no     4789     yes  yes   \n",
            "2   35   management   single   tertiary      no     1350     yes   no   \n",
            "3   30   management  married   tertiary      no     1476     yes  yes   \n",
            "4   59  blue-collar  married  secondary      no        0     yes   no   \n",
            "\n",
            "    contact  day month  duration  campaign  pdays  previous poutcome   y  \n",
            "0  cellular   19   oct        79         1     -1         0  unknown  no  \n",
            "1  cellular   11   may       220         1    339         4  failure  no  \n",
            "2  cellular   16   apr       185         1    330         1  failure  no  \n",
            "3   unknown    3   jun       199         4     -1         0  unknown  no  \n",
            "4   unknown    5   may       226         1     -1         0  unknown  no  \n"
          ]
        }
      ]
    },
    {
      "cell_type": "code",
      "source": [
        "# Check for missing values and data types\n",
        "print(df.isnull().sum())\n",
        "print(df.info())\n",
        "print(df.describe())\n"
      ],
      "metadata": {
        "colab": {
          "base_uri": "https://localhost:8080/"
        },
        "id": "XWl2M4lFyxRB",
        "outputId": "7c9ce68d-3c65-4a01-d7e1-ee929543db0a"
      },
      "execution_count": 5,
      "outputs": [
        {
          "output_type": "stream",
          "name": "stdout",
          "text": [
            "age          0\n",
            "job          0\n",
            "marital      0\n",
            "education    0\n",
            "default      0\n",
            "balance      0\n",
            "housing      0\n",
            "loan         0\n",
            "contact      0\n",
            "day          0\n",
            "month        0\n",
            "duration     0\n",
            "campaign     0\n",
            "pdays        0\n",
            "previous     0\n",
            "poutcome     0\n",
            "y            0\n",
            "dtype: int64\n",
            "<class 'pandas.core.frame.DataFrame'>\n",
            "RangeIndex: 4521 entries, 0 to 4520\n",
            "Data columns (total 17 columns):\n",
            " #   Column     Non-Null Count  Dtype \n",
            "---  ------     --------------  ----- \n",
            " 0   age        4521 non-null   int64 \n",
            " 1   job        4521 non-null   object\n",
            " 2   marital    4521 non-null   object\n",
            " 3   education  4521 non-null   object\n",
            " 4   default    4521 non-null   object\n",
            " 5   balance    4521 non-null   int64 \n",
            " 6   housing    4521 non-null   object\n",
            " 7   loan       4521 non-null   object\n",
            " 8   contact    4521 non-null   object\n",
            " 9   day        4521 non-null   int64 \n",
            " 10  month      4521 non-null   object\n",
            " 11  duration   4521 non-null   int64 \n",
            " 12  campaign   4521 non-null   int64 \n",
            " 13  pdays      4521 non-null   int64 \n",
            " 14  previous   4521 non-null   int64 \n",
            " 15  poutcome   4521 non-null   object\n",
            " 16  y          4521 non-null   object\n",
            "dtypes: int64(7), object(10)\n",
            "memory usage: 600.6+ KB\n",
            "None\n",
            "               age       balance          day     duration     campaign  \\\n",
            "count  4521.000000   4521.000000  4521.000000  4521.000000  4521.000000   \n",
            "mean     41.170095   1422.657819    15.915284   263.961292     2.793630   \n",
            "std      10.576211   3009.638142     8.247667   259.856633     3.109807   \n",
            "min      19.000000  -3313.000000     1.000000     4.000000     1.000000   \n",
            "25%      33.000000     69.000000     9.000000   104.000000     1.000000   \n",
            "50%      39.000000    444.000000    16.000000   185.000000     2.000000   \n",
            "75%      49.000000   1480.000000    21.000000   329.000000     3.000000   \n",
            "max      87.000000  71188.000000    31.000000  3025.000000    50.000000   \n",
            "\n",
            "             pdays     previous  \n",
            "count  4521.000000  4521.000000  \n",
            "mean     39.766645     0.542579  \n",
            "std     100.121124     1.693562  \n",
            "min      -1.000000     0.000000  \n",
            "25%      -1.000000     0.000000  \n",
            "50%      -1.000000     0.000000  \n",
            "75%      -1.000000     0.000000  \n",
            "max     871.000000    25.000000  \n"
          ]
        }
      ]
    },
    {
      "cell_type": "code",
      "source": [
        "# Encode categorical variables\n",
        "df_encoded = pd.get_dummies(df, drop_first=True)\n",
        "\n",
        "# Normalize numeric columns\n",
        "numeric_columns = ['age', 'balance', 'duration']  # Adjust based on dataset\n",
        "scaler = StandardScaler()\n",
        "df_encoded[numeric_columns] = scaler.fit_transform(df_encoded[numeric_columns])\n"
      ],
      "metadata": {
        "id": "xxL_9ECjy0lx"
      },
      "execution_count": 6,
      "outputs": []
    },
    {
      "cell_type": "code",
      "source": [
        "# Separate features and target\n",
        "X = df_encoded.drop('y_yes', axis=1)  # Replace 'y_yes' with actual target column\n",
        "y = df_encoded['y_yes']\n",
        "\n",
        "# Split into training and testing sets\n",
        "X_train, X_test, y_train, y_test = train_test_split(X, y, test_size=0.3, random_state=42)\n",
        "print(\"Training Set:\", X_train.shape)\n",
        "print(\"Test Set:\", X_test.shape)\n"
      ],
      "metadata": {
        "colab": {
          "base_uri": "https://localhost:8080/"
        },
        "id": "fwVksyANy4sa",
        "outputId": "5150b6d0-bf57-4aa1-8684-f907b8aa958a"
      },
      "execution_count": 7,
      "outputs": [
        {
          "output_type": "stream",
          "name": "stdout",
          "text": [
            "Training Set: (3164, 42)\n",
            "Test Set: (1357, 42)\n"
          ]
        }
      ]
    },
    {
      "cell_type": "code",
      "source": [
        "from sklearn.ensemble import RandomForestClassifier\n",
        "from sklearn.metrics import accuracy_score, classification_report\n",
        "\n",
        "# Initialize and train the Random Forest classifier\n",
        "rf_model = RandomForestClassifier(random_state=42)\n",
        "rf_model.fit(X_train, y_train)\n",
        "\n",
        "# Make predictions on the test set\n",
        "y_pred_rf = rf_model.predict(X_test)\n",
        "\n",
        "# Evaluate the model\n",
        "print(\"Random Forest Accuracy:\", accuracy_score(y_test, y_pred_rf))\n",
        "print(\"\\nClassification Report:\\n\", classification_report(y_test, y_pred_rf))\n"
      ],
      "metadata": {
        "colab": {
          "base_uri": "https://localhost:8080/"
        },
        "id": "gJ7ngLT8y8nD",
        "outputId": "38d35a16-2edf-4f1c-867a-eeab4c98a955"
      },
      "execution_count": 8,
      "outputs": [
        {
          "output_type": "stream",
          "name": "stdout",
          "text": [
            "Random Forest Accuracy: 0.894620486366986\n",
            "\n",
            "Classification Report:\n",
            "               precision    recall  f1-score   support\n",
            "\n",
            "       False       0.91      0.98      0.94      1205\n",
            "        True       0.58      0.22      0.32       152\n",
            "\n",
            "    accuracy                           0.89      1357\n",
            "   macro avg       0.74      0.60      0.63      1357\n",
            "weighted avg       0.87      0.89      0.87      1357\n",
            "\n"
          ]
        }
      ]
    },
    {
      "cell_type": "code",
      "source": [
        "import tensorflow as tf\n",
        "from tensorflow.keras.models import Sequential\n",
        "from tensorflow.keras.layers import Dense\n",
        "\n",
        "# Build the neural network\n",
        "nn_model = Sequential([\n",
        "    Dense(64, input_dim=X_train.shape[1], activation='relu'),\n",
        "    Dense(32, activation='relu'),\n",
        "    Dense(1, activation='sigmoid')  # For binary classification\n",
        "])\n",
        "\n",
        "# Compile the model\n",
        "nn_model.compile(optimizer='adam', loss='binary_crossentropy', metrics=['accuracy'])\n",
        "\n",
        "# Train the model\n",
        "history = nn_model.fit(X_train, y_train, epochs=10, batch_size=32, validation_data=(X_test, y_test))\n"
      ],
      "metadata": {
        "colab": {
          "base_uri": "https://localhost:8080/"
        },
        "id": "oVnqzAzU0Uls",
        "outputId": "caab37a9-3994-4a72-afd5-6455c2d6d6d1"
      },
      "execution_count": 9,
      "outputs": [
        {
          "output_type": "stream",
          "name": "stdout",
          "text": [
            "Epoch 1/10\n"
          ]
        },
        {
          "output_type": "stream",
          "name": "stderr",
          "text": [
            "/usr/local/lib/python3.10/dist-packages/keras/src/layers/core/dense.py:87: UserWarning: Do not pass an `input_shape`/`input_dim` argument to a layer. When using Sequential models, prefer using an `Input(shape)` object as the first layer in the model instead.\n",
            "  super().__init__(activity_regularizer=activity_regularizer, **kwargs)\n"
          ]
        },
        {
          "output_type": "stream",
          "name": "stdout",
          "text": [
            "\u001b[1m99/99\u001b[0m \u001b[32m━━━━━━━━━━━━━━━━━━━━\u001b[0m\u001b[37m\u001b[0m \u001b[1m2s\u001b[0m 4ms/step - accuracy: 0.7275 - loss: 1.7568 - val_accuracy: 0.8865 - val_loss: 0.3570\n",
            "Epoch 2/10\n",
            "\u001b[1m99/99\u001b[0m \u001b[32m━━━━━━━━━━━━━━━━━━━━\u001b[0m\u001b[37m\u001b[0m \u001b[1m0s\u001b[0m 3ms/step - accuracy: 0.8708 - loss: 0.3233 - val_accuracy: 0.8865 - val_loss: 0.2821\n",
            "Epoch 3/10\n",
            "\u001b[1m99/99\u001b[0m \u001b[32m━━━━━━━━━━━━━━━━━━━━\u001b[0m\u001b[37m\u001b[0m \u001b[1m1s\u001b[0m 4ms/step - accuracy: 0.8805 - loss: 0.2939 - val_accuracy: 0.8895 - val_loss: 0.2654\n",
            "Epoch 4/10\n",
            "\u001b[1m99/99\u001b[0m \u001b[32m━━━━━━━━━━━━━━━━━━━━\u001b[0m\u001b[37m\u001b[0m \u001b[1m1s\u001b[0m 3ms/step - accuracy: 0.8992 - loss: 0.2514 - val_accuracy: 0.8931 - val_loss: 0.2694\n",
            "Epoch 5/10\n",
            "\u001b[1m99/99\u001b[0m \u001b[32m━━━━━━━━━━━━━━━━━━━━\u001b[0m\u001b[37m\u001b[0m \u001b[1m1s\u001b[0m 4ms/step - accuracy: 0.9022 - loss: 0.2756 - val_accuracy: 0.8873 - val_loss: 0.2558\n",
            "Epoch 6/10\n",
            "\u001b[1m99/99\u001b[0m \u001b[32m━━━━━━━━━━━━━━━━━━━━\u001b[0m\u001b[37m\u001b[0m \u001b[1m1s\u001b[0m 5ms/step - accuracy: 0.8920 - loss: 0.2641 - val_accuracy: 0.8880 - val_loss: 0.2512\n",
            "Epoch 7/10\n",
            "\u001b[1m99/99\u001b[0m \u001b[32m━━━━━━━━━━━━━━━━━━━━\u001b[0m\u001b[37m\u001b[0m \u001b[1m1s\u001b[0m 4ms/step - accuracy: 0.9000 - loss: 0.2451 - val_accuracy: 0.8873 - val_loss: 0.3040\n",
            "Epoch 8/10\n",
            "\u001b[1m99/99\u001b[0m \u001b[32m━━━━━━━━━━━━━━━━━━━━\u001b[0m\u001b[37m\u001b[0m \u001b[1m1s\u001b[0m 4ms/step - accuracy: 0.9083 - loss: 0.2378 - val_accuracy: 0.8954 - val_loss: 0.2528\n",
            "Epoch 9/10\n",
            "\u001b[1m99/99\u001b[0m \u001b[32m━━━━━━━━━━━━━━━━━━━━\u001b[0m\u001b[37m\u001b[0m \u001b[1m0s\u001b[0m 2ms/step - accuracy: 0.8895 - loss: 0.2624 - val_accuracy: 0.8917 - val_loss: 0.2477\n",
            "Epoch 10/10\n",
            "\u001b[1m99/99\u001b[0m \u001b[32m━━━━━━━━━━━━━━━━━━━━\u001b[0m\u001b[37m\u001b[0m \u001b[1m0s\u001b[0m 2ms/step - accuracy: 0.9038 - loss: 0.2367 - val_accuracy: 0.8887 - val_loss: 0.2471\n"
          ]
        }
      ]
    },
    {
      "cell_type": "code",
      "source": [
        "# Evaluate the neural network on the test set\n",
        "loss, accuracy = nn_model.evaluate(X_test, y_test)\n",
        "print(\"Neural Network Accuracy:\", accuracy)\n"
      ],
      "metadata": {
        "colab": {
          "base_uri": "https://localhost:8080/"
        },
        "id": "_G9PFQo_0aTX",
        "outputId": "dcff29f1-ccc4-4f36-a425-4a540388a7ee"
      },
      "execution_count": 10,
      "outputs": [
        {
          "output_type": "stream",
          "name": "stdout",
          "text": [
            "\u001b[1m43/43\u001b[0m \u001b[32m━━━━━━━━━━━━━━━━━━━━\u001b[0m\u001b[37m\u001b[0m \u001b[1m0s\u001b[0m 1ms/step - accuracy: 0.8882 - loss: 0.2431 \n",
            "Neural Network Accuracy: 0.8887251019477844\n"
          ]
        }
      ]
    },
    {
      "cell_type": "code",
      "source": [
        "from sklearn.metrics import roc_auc_score\n",
        "\n",
        "# Random Forest\n",
        "rf_auc = roc_auc_score(y_test, rf_model.predict_proba(X_test)[:, 1])\n",
        "print(\"Random Forest ROC-AUC:\", rf_auc)\n",
        "\n",
        "# Neural Network\n",
        "nn_predictions = nn_model.predict(X_test).ravel()\n",
        "nn_auc = roc_auc_score(y_test, nn_predictions)\n",
        "print(\"Neural Network ROC-AUC:\", nn_auc)\n"
      ],
      "metadata": {
        "colab": {
          "base_uri": "https://localhost:8080/"
        },
        "id": "jFJA9Dfe0ebh",
        "outputId": "11ae3f49-2fff-4e36-ba90-25acafd080f9"
      },
      "execution_count": 11,
      "outputs": [
        {
          "output_type": "stream",
          "name": "stdout",
          "text": [
            "Random Forest ROC-AUC: 0.9110258790128849\n",
            "\u001b[1m43/43\u001b[0m \u001b[32m━━━━━━━━━━━━━━━━━━━━\u001b[0m\u001b[37m\u001b[0m \u001b[1m0s\u001b[0m 2ms/step\n",
            "Neural Network ROC-AUC: 0.8869785979471501\n"
          ]
        }
      ]
    }
  ]
}